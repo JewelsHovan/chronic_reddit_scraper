{
 "cells": [
  {
   "cell_type": "code",
   "execution_count": 4,
   "metadata": {},
   "outputs": [
    {
     "name": "stdout",
     "output_type": "stream",
     "text": [
      "{'title': 'Nerve block didn’t work', 'author': 'xKittyxKultx', 'created_timestamp': '2024-12-05T17:03:20.508000+0000', 'score': '2', 'upvote_ratio': 0, 'content': 'I have done the steroid injections in my sacroiliac joint twice and they helped maybe 75% the first time and 50% the second time, but made my sugar go too high so I wanted to explore other optionsMy new dr is convinced I don’t have fibro but isn’t sure what it is yet. He said I should get a nerve block and it will have me feeling like I have a new back for a few hours, then they can burn the nerves. But I just got it done at 9 and I have no relief and the pain of the shot was way worse than the steroid injections. I am still having a lot of pain in the injection site and although I was trying to go today without meds to see if this helped, I caved and had to take a pain pill in order to have basic movement backI have been unable to get out of my bed or bend over since I got home.Has anyone else experienced this? What does it mean other than that it’s obviously not my nerves? I’m super disappointed bc I was looking forward to this “new back” I was promised 😭', 'post_id': 't3_1h7dyt8', 'comments': [{'thing_id': 't1_m0kdubw', 'depth': 0, 'parent_id': None, 'author': 'DrSummeroff12', 'text': \"I also have SI Joint arthritis, injections hasn't helped either. Dr said fusing the joint is my only serious option, it's called IFuse. Unfortunately, I cannot use titanium, I had a lumbar fusion that used titanium hardware, weeks after fusion back pain became intense. Xray showed hardwarecwas OK, but lidocaine injections into pedicle screws on one side showed it was the titanium. Out came hardware and pain disappeared, fusion fused properly 8 months later. I wish I could get the IFuse method. Good luck.\", 'action_id': 't1_m0kdubw', 'more_replies': None, 'replies': []}, {'thing_id': 't1_m0kezfq', 'depth': 0, 'parent_id': None, 'author': 'mjh8212', 'text': 'I have cervical arthritis and my pain Dr wanted to do an ablation. I got the first nerve block and it was wonderful and it worked. My insurance requires two nerve blocks before ablation so I had a second one. I couldn’t move my neck for hours. It hurt so bad. So I didn’t get the ablation. I have no idea why this happens. Sometimes they work sometimes they don’t. My neck really isn’t that bad now I get the occasional twinge. My fiancé slammed on the brakes to avoid hitting a car that ran a stop sign it was sudden and I had my seatbelt on but my neck got whipped around. They did a xray and found the arthritis. It was determined I had whiplash but the arthritis had been there a while before my neck injury.', 'action_id': 't1_m0kezfq', 'more_replies': None, 'replies': []}, {'thing_id': 't1_m0pudzn', 'depth': 0, 'parent_id': None, 'author': 'Annabloem', 'text': \"For me nerve blocks would usually get worse first,  then slowly get better about 24 hours after.I've had two failed ones,  one that did nothing (but make things worse for about 24 hours) And one that took about 48 hours to stop feeling horrible,  then I made the mistake of going to buy groceries and was in incredible pain after including vomiting and fainting. I was admitted to the hospital for I think a week,  maybe two.I've had super minor ones that didn't really make things worse,  but they also did very little to make things better. The more pain in the first 24 hours  the better the success.The nerve block injections are supposedly done of the most painful ones there are, though for me comparatively they aren't as bad as my regular pain  or the pain afterwards when things got worse.If not much time has passed,  I would wait a little. Apparently it can take up to a week to feel relief,  though for me it was usually 24h. Everyone is different. On the other hand if it has been over a week, I'm sorry. That means the injection was unsuccessful and you v went through that pain for nothing. At least you now have an idea of which nerve isn't causing your pain.\", 'action_id': 't1_m0pudzn', 'more_replies': '/r/ChronicPain/comments/1h7dyt8/comment/m0pudzn/', 'replies': [{'thing_id': 't1_m0q8pmf', 'depth': 1, 'parent_id': 't1_m0pudzn', 'author': 'xKittyxKultx', 'text': 'Unfortunately this one was not the long lasting one, just the diagnostic nerve block, so it was supposed to take effect immediately with the anesthetic on the nerve, and then only last 4 hours. It was supposed to have 80% efficacy for 4 hours in order to confirm the diagnosis that it was the nerves in order to move to the longer lasting nerve block :(I can feel a nodule under my skin at the injection site that’s hurts to the touch and so what I’m thinking happened is my tissues or joints ARE the problem, not the nerves. It’s frustrating bc that’s what I’ve been saying for years but drs want to do everything but that. It’s been over 24 hours and I’m still not back down to baseline pain but it’s getting better. I don’t have any known allergies to anesthetics and the steroid injections into my sacroiliac joint hurt like hell but did not hurt this badly', 'action_id': 't1_m0q8pmf', 'more_replies': None, 'replies': []}]}]}\n"
     ]
    }
   ],
   "source": [
    "import json\n",
    "\n",
    "with open('../data/posts_data_20241217_192033.json', 'r') as file:\n",
    "    data = json.load(file)\n",
    "\n",
    "print(data[0])"
   ]
  },
  {
   "cell_type": "code",
   "execution_count": 5,
   "metadata": {},
   "outputs": [
    {
     "name": "stdout",
     "output_type": "stream",
     "text": [
      "Nerve block didn’t work I have done the steroid injections in my sacroiliac joint twice and they helped maybe 75% the first time and 50% the second time, but made my sugar go too high so I wanted to explore other optionsMy new dr is convinced I don’t have fibro but isn’t sure what it is yet. He said I should get a nerve block and it will have me feeling like I have a new back for a few hours, then they can burn the nerves. But I just got it done at 9 and I have no relief and the pain of the shot was way worse than the steroid injections. I am still having a lot of pain in the injection site and although I was trying to go today without meds to see if this helped, I caved and had to take a pain pill in order to have basic movement backI have been unable to get out of my bed or bend over since I got home.Has anyone else experienced this? What does it mean other than that it’s obviously not my nerves? I’m super disappointed bc I was looking forward to this “new back” I was promised 😭 I also have SI Joint arthritis, injections hasn't helped either. Dr said fusing the joint is my only serious option, it's called IFuse. Unfortunately, I cannot use titanium, I had a lumbar fusion that used titanium hardware, weeks after fusion back pain became intense. Xray showed hardwarecwas OK, but lidocaine injections into pedicle screws on one side showed it was the titanium. Out came hardware and pain disappeared, fusion fused properly 8 months later. I wish I could get the IFuse method. Good luck. I have cervical arthritis and my pain Dr wanted to do an ablation. I got the first nerve block and it was wonderful and it worked. My insurance requires two nerve blocks before ablation so I had a second one. I couldn’t move my neck for hours. It hurt so bad. So I didn’t get the ablation. I have no idea why this happens. Sometimes they work sometimes they don’t. My neck really isn’t that bad now I get the occasional twinge. My fiancé slammed on the brakes to avoid hitting a car that ran a stop sign it was sudden and I had my seatbelt on but my neck got whipped around. They did a xray and found the arthritis. It was determined I had whiplash but the arthritis had been there a while before my neck injury. For me nerve blocks would usually get worse first,  then slowly get better about 24 hours after.I've had two failed ones,  one that did nothing (but make things worse for about 24 hours) And one that took about 48 hours to stop feeling horrible,  then I made the mistake of going to buy groceries and was in incredible pain after including vomiting and fainting. I was admitted to the hospital for I think a week,  maybe two.I've had super minor ones that didn't really make things worse,  but they also did very little to make things better. The more pain in the first 24 hours  the better the success.The nerve block injections are supposedly done of the most painful ones there are, though for me comparatively they aren't as bad as my regular pain  or the pain afterwards when things got worse.If not much time has passed,  I would wait a little. Apparently it can take up to a week to feel relief,  though for me it was usually 24h. Everyone is different. On the other hand if it has been over a week, I'm sorry. That means the injection was unsuccessful and you v went through that pain for nothing. At least you now have an idea of which nerve isn't causing your pain. Unfortunately this one was not the long lasting one, just the diagnostic nerve block, so it was supposed to take effect immediately with the anesthetic on the nerve, and then only last 4 hours. It was supposed to have 80% efficacy for 4 hours in order to confirm the diagnosis that it was the nerves in order to move to the longer lasting nerve block :(I can feel a nodule under my skin at the injection site that’s hurts to the touch and so what I’m thinking happened is my tissues or joints ARE the problem, not the nerves. It’s frustrating bc that’s what I’ve been saying for years but drs want to do everything but that. It’s been over 24 hours and I’m still not back down to baseline pain but it’s getting better. I don’t have any known allergies to anesthetics and the steroid injections into my sacroiliac joint hurt like hell but did not hurt this badly\n"
     ]
    }
   ],
   "source": [
    "posts_texts = []\n",
    "for post in data:\n",
    "    post_text = post[\"title\"] + \" \" + post[\"content\"]\n",
    "    for comment in post[\"comments\"]:\n",
    "        post_text += \" \" + comment[\"text\"]\n",
    "        for reply in comment[\"replies\"]:\n",
    "            post_text += \" \" + reply[\"text\"]\n",
    "    posts_texts.append(post_text)\n",
    "\n",
    "print(posts_texts[0])"
   ]
  },
  {
   "cell_type": "code",
   "execution_count": 6,
   "metadata": {},
   "outputs": [
    {
     "name": "stderr",
     "output_type": "stream",
     "text": [
      "[nltk_data] Downloading package stopwords to\n",
      "[nltk_data]     /Users/julienh/nltk_data...\n",
      "[nltk_data]   Package stopwords is already up-to-date!\n",
      "[nltk_data] Downloading package wordnet to /Users/julienh/nltk_data...\n",
      "[nltk_data]   Package wordnet is already up-to-date!\n"
     ]
    },
    {
     "data": {
      "text/plain": [
       "True"
      ]
     },
     "execution_count": 6,
     "metadata": {},
     "output_type": "execute_result"
    }
   ],
   "source": [
    "import re\n",
    "import nltk\n",
    "from nltk.corpus import stopwords\n",
    "from nltk.stem import WordNetLemmatizer\n",
    "\n",
    "nltk.download(\"stopwords\")\n",
    "nltk.download(\"wordnet\")\n"
   ]
  },
  {
   "cell_type": "code",
   "execution_count": 7,
   "metadata": {},
   "outputs": [],
   "source": [
    "\n",
    "stop_words = set(stopwords.words(\"english\"))\n",
    "lemmatizer = WordNetLemmatizer()\n",
    "\n",
    "def preprocess_text(text):\n",
    "    text = text.lower()\n",
    "    text = re.sub(r\"http\\S+\", \"\", text)  # Remove URLs\n",
    "    text = re.sub(r\"u/\\S+\", \"\", text)  # Remove usernames\n",
    "    text = re.sub(r\"r/\\S+\", \"\", text)  # Remove subreddit mentions\n",
    "    text = re.sub(r\"[^a-zA-Z\\s]\", \"\", text)  # Remove punctuation and special characters\n",
    "    words = text.split()\n",
    "    words = [lemmatizer.lemmatize(word) for word in words if word not in stop_words]\n",
    "    return \" \".join(words)\n",
    "\n",
    "cleaned_posts_texts = [preprocess_text(post_text) for post_text in posts_texts]"
   ]
  },
  {
   "cell_type": "code",
   "execution_count": 8,
   "metadata": {},
   "outputs": [],
   "source": [
    "# save cleaned posts texts to file\n",
    "with open('cleaned_posts_texts.txt', 'w') as file:\n",
    "    for text in cleaned_posts_texts:\n",
    "        file.write(text + \"\\n\")\n"
   ]
  },
  {
   "cell_type": "code",
   "execution_count": 9,
   "metadata": {},
   "outputs": [
    {
     "name": "stdout",
     "output_type": "stream",
     "text": [
      "Topic: 0 \n",
      "Words: 0.006*\"bad\" + 0.006*\"got\" + 0.005*\"youre\" + 0.005*\"something\" + 0.004*\"better\" + 0.004*\"sorry\" + 0.004*\"thats\" + 0.004*\"sleep\" + 0.004*\"people\" + 0.004*\"lot\"\n",
      "\n",
      "Topic: 1 \n",
      "Words: 0.010*\"people\" + 0.007*\"surgery\" + 0.005*\"see\" + 0.005*\"nerve\" + 0.004*\"patient\" + 0.004*\"issue\" + 0.004*\"care\" + 0.004*\"life\" + 0.004*\"u\" + 0.004*\"say\"\n",
      "\n",
      "Topic: 2 \n",
      "Words: 0.014*\"med\" + 0.010*\"drug\" + 0.008*\"medication\" + 0.006*\"patient\" + 0.006*\"people\" + 0.006*\"pharmacy\" + 0.004*\"management\" + 0.004*\"doc\" + 0.004*\"dose\" + 0.004*\"opioid\"\n",
      "\n",
      "Topic: 3 \n",
      "Words: 0.011*\"people\" + 0.011*\"life\" + 0.006*\"way\" + 0.006*\"u\" + 0.005*\"still\" + 0.005*\"love\" + 0.004*\"say\" + 0.004*\"thats\" + 0.004*\"youre\" + 0.004*\"bad\"\n",
      "\n",
      "Topic: 4 \n",
      "Words: 0.005*\"mg\" + 0.005*\"lot\" + 0.005*\"muscle\" + 0.005*\"medication\" + 0.004*\"effect\" + 0.004*\"use\" + 0.004*\"long\" + 0.004*\"dose\" + 0.004*\"got\" + 0.004*\"cbd\"\n",
      "\n"
     ]
    }
   ],
   "source": [
    "# LDA with Gensim\n",
    "from gensim import corpora\n",
    "from gensim.models import LdaModel\n",
    "\n",
    "# Create a dictionary representation of the documents.\n",
    "dictionary = corpora.Dictionary([text.split() for text in cleaned_posts_texts])\n",
    "# Filter out extremes (similar to the min_df and max_df parameters in sklearn)\n",
    "dictionary.filter_extremes(no_below=5, no_above=0.5)  #  \n",
    "# Create a bag-of-words representation of the documents.\n",
    "corpus = [dictionary.doc2bow(text.split()) for text in cleaned_posts_texts]\n",
    "# Train the LDA model\n",
    "lda_model = LdaModel(corpus=corpus, id2word=dictionary, num_topics=5, random_state=42, passes=10)\n",
    "\n",
    "# Print the topics\n",
    "for idx, topic in lda_model.print_topics(-1):\n",
    "    print(f\"Topic: {idx} \\nWords: {topic}\\n\")\n"
   ]
  },
  {
   "cell_type": "code",
   "execution_count": 10,
   "metadata": {},
   "outputs": [],
   "source": [
    "import pyLDAvis.gensim_models\n",
    "import pyLDAvis\n",
    "\n",
    "# Assuming you have your trained LDA model (lda_model) and corpus from the previous examples:\n",
    "\n",
    "# Prepare the visualization data\n",
    "vis_data = pyLDAvis.gensim_models.prepare(lda_model, corpus, dictionary)\n",
    "\n",
    "# Display the visualization in your browser\n",
    "#pyLDAvis.display(vis_data)\n",
    "\n",
    "# You can also save it as an HTML file:\n",
    "pyLDAvis.save_html(vis_data, 'lda_visualization.html')"
   ]
  },
  {
   "cell_type": "markdown",
   "metadata": {},
   "source": [
    "## Bert Topic Modelling and Analysis"
   ]
  },
  {
   "cell_type": "code",
   "execution_count": 11,
   "metadata": {},
   "outputs": [
    {
     "name": "stderr",
     "output_type": "stream",
     "text": [
      "2024-12-18 00:48:22,228 - BERTopic - Embedding - Transforming documents to embeddings.\n"
     ]
    },
    {
     "data": {
      "application/vnd.jupyter.widget-view+json": {
       "model_id": "e0d9efaacd144cc4ab1e8a2fa3a10a1c",
       "version_major": 2,
       "version_minor": 0
      },
      "text/plain": [
       "Batches:   0%|          | 0/21 [00:00<?, ?it/s]"
      ]
     },
     "metadata": {},
     "output_type": "display_data"
    },
    {
     "name": "stderr",
     "output_type": "stream",
     "text": [
      "2024-12-18 00:48:26,610 - BERTopic - Embedding - Completed ✓\n",
      "2024-12-18 00:48:26,611 - BERTopic - Dimensionality - Fitting the dimensionality reduction algorithm\n",
      "OMP: Info #276: omp_set_nested routine deprecated, please use omp_set_max_active_levels instead.\n",
      "2024-12-18 00:48:30,176 - BERTopic - Dimensionality - Completed ✓\n",
      "2024-12-18 00:48:30,177 - BERTopic - Cluster - Start clustering the reduced embeddings\n",
      "2024-12-18 00:48:30,192 - BERTopic - Cluster - Completed ✓\n",
      "2024-12-18 00:48:30,193 - BERTopic - Representation - Extracting topics from clusters using representation models.\n",
      "2024-12-18 00:48:30,313 - BERTopic - Representation - Completed ✓\n"
     ]
    },
    {
     "name": "stdout",
     "output_type": "stream",
     "text": [
      "   Topic  Count                           Name  \\\n",
      "0     -1    230            -1_pain_im_get_like   \n",
      "1      0    155            0_im_pain_like_feel   \n",
      "2      1    129            1_pain_im_get_nerve   \n",
      "3      2     35     2_people_pain_chronic_dont   \n",
      "4      3     33  3_pharmacy_day_pharmacist_get   \n",
      "5      4     33         4_pain_doctor_drug_med   \n",
      "6      5     30           5_pain_take_med_like   \n",
      "7      6     10           6_pain_scale_im_like   \n",
      "\n",
      "                                      Representation  \\\n",
      "0  [pain, im, get, like, doctor, dont, help, know...   \n",
      "1  [im, pain, like, feel, get, dont, day, time, l...   \n",
      "2  [pain, im, get, nerve, back, like, disc, ive, ...   \n",
      "3  [people, pain, chronic, dont, think, insurance...   \n",
      "4  [pharmacy, day, pharmacist, get, drug, med, pa...   \n",
      "5  [pain, doctor, drug, med, get, medication, wou...   \n",
      "6  [pain, take, med, like, tramadol, get, mg, im,...   \n",
      "7  [pain, scale, im, like, doctor, dont, get, day...   \n",
      "\n",
      "                                 Representative_Docs  \n",
      "0  [injection today im trying panic dont sedation...  \n",
      "1  [whats keeping falsefor people dealing suicida...  \n",
      "2  [ive gone long enough need something pain im m...  \n",
      "3  [either chronic pain knew someone followed new...  \n",
      "4  [stressed shortage opioid shortage getting dam...  \n",
      "5  [let see get getting cardio check asshole went...  \n",
      "6  [advice support im coming term chronic back pa...  \n",
      "7  [question pain scale look like many people pai...  \n",
      "Topic 0: [('im', 0.04371784415076927), ('pain', 0.040940738765000845), ('like', 0.0303768174605245), ('feel', 0.028576459494441472), ('get', 0.025310773793452875)]\n",
      "\n",
      "Topic 1: [('pain', 0.04980569908604273), ('im', 0.028681870404525658), ('get', 0.02729223846772571), ('nerve', 0.02405244173071052), ('back', 0.023210108625994066)]\n",
      "\n",
      "Topic 2: [('people', 0.044094558253559825), ('pain', 0.03815870984575019), ('chronic', 0.0224629282190515), ('dont', 0.02244470090004566), ('think', 0.02227132445770796)]\n",
      "\n",
      "Topic 3: [('pharmacy', 0.04991365232342651), ('day', 0.03364310269311498), ('pharmacist', 0.03160997939319389), ('get', 0.029830073243854727), ('drug', 0.027985012698058243)]\n",
      "\n",
      "Topic 4: [('pain', 0.04361407432123428), ('doctor', 0.04035135413494109), ('drug', 0.02843714417126822), ('med', 0.026884316716157708), ('get', 0.0254820776066072)]\n",
      "\n",
      "Topic 5: [('pain', 0.05074990951606382), ('take', 0.02928591966738809), ('med', 0.026714782459715626), ('like', 0.023955204518892777), ('tramadol', 0.02361764763816858)]\n",
      "\n",
      "Topic 6: [('pain', 0.09540464981101283), ('scale', 0.05075215920251539), ('im', 0.03389206392892491), ('like', 0.03343211108114147), ('doctor', 0.026661901358016642)]\n",
      "\n"
     ]
    }
   ],
   "source": [
    "\n",
    "# BERTopic\n",
    "from bertopic import BERTopic\n",
    "\n",
    "topic_model = BERTopic(language=\"english\", calculate_probabilities=False, verbose=True)\n",
    "topics, _ = topic_model.fit_transform(cleaned_posts_texts)\n",
    "\n",
    "# Get the topics\n",
    "topic_model.get_topic_info()\n",
    "# Print the top 10 most frequent topics\n",
    "print(topic_model.get_topic_info().head(10))\n",
    "\n",
    "# Get the top n terms per topic\n",
    "n_terms = 5\n",
    "for i in range(len(set(topics)) - 1):  # Exclude outlier topic -1\n",
    "    print(f\"Topic {i}: {topic_model.get_topic(i)[:n_terms]}\\n\")"
   ]
  },
  {
   "cell_type": "code",
   "execution_count": 12,
   "metadata": {},
   "outputs": [
    {
     "name": "stderr",
     "output_type": "stream",
     "text": [
      "/Users/julienh/.pyenv/versions/3.10.0/lib/python3.10/site-packages/IPython/core/pylabtools.py:77: DeprecationWarning: backend2gui is deprecated since IPython 8.24, backends are managed in matplotlib and can be externally registered.\n",
      "  warnings.warn(\n",
      "/Users/julienh/.pyenv/versions/3.10.0/lib/python3.10/site-packages/IPython/core/pylabtools.py:77: DeprecationWarning: backend2gui is deprecated since IPython 8.24, backends are managed in matplotlib and can be externally registered.\n",
      "  warnings.warn(\n",
      "/Users/julienh/.pyenv/versions/3.10.0/lib/python3.10/site-packages/IPython/core/pylabtools.py:77: DeprecationWarning: backend2gui is deprecated since IPython 8.24, backends are managed in matplotlib and can be externally registered.\n",
      "  warnings.warn(\n"
     ]
    },
    {
     "data": {
      "image/png": "[encoded data removed]",
      "text/plain": [
       "<Figure size 1000x500 with 1 Axes>"
      ]
     },
     "metadata": {},
     "output_type": "display_data"
    },
    {
     "data": {
      "image/png": "[encoded data removed]",
      "text/plain": [
       "<Figure size 1000x500 with 1 Axes>"
      ]
     },
     "metadata": {},
     "output_type": "display_data"
    }
   ],
   "source": [
    "from wordcloud import WordCloud\n",
    "import matplotlib.pyplot as plt\n",
    "\n",
    "def create_wordcloud_for_topic(topic_id, model, num_words=30):\n",
    "    \"\"\"\n",
    "    Generates a word cloud for a specific topic.\n",
    "\n",
    "    Args:\n",
    "        topic_id: The ID of the topic.\n",
    "        model: The trained LDA or BERTopic model.\n",
    "        num_words: The number of top words to include in the word cloud.\n",
    "    \"\"\"\n",
    "\n",
    "    if isinstance(model, LdaModel):\n",
    "        # For Gensim LDA model\n",
    "        words = dict(model.show_topic(topic_id, num_words))\n",
    "    elif isinstance(model, BERTopic):\n",
    "        # For BERTopic model\n",
    "        words = {word: prob for word, prob in model.get_topic(topic_id)}\n",
    "    else:\n",
    "        raise ValueError(\"Unsupported model type\")\n",
    "\n",
    "    wordcloud = WordCloud(width=800, height=400, background_color=\"white\").generate_from_frequencies(words)\n",
    "\n",
    "    plt.figure(figsize=(10, 5))\n",
    "    plt.imshow(wordcloud, interpolation=\"bilinear\")\n",
    "    plt.axis(\"off\")\n",
    "    plt.title(f\"Word Cloud for Topic {topic_id}\")\n",
    "    plt.show()\n",
    "\n",
    "# Example usage with LDA:\n",
    "create_wordcloud_for_topic(0, lda_model)  # Create a word cloud for topic 0\n",
    "\n",
    "# Example usage with BERTopic:\n",
    "create_wordcloud_for_topic(0, topic_model)  # Create a word cloud for topic 0"
   ]
  },
  {
   "cell_type": "code",
   "execution_count": 14,
   "metadata": {},
   "outputs": [
    {
     "data": {
      "application/vnd.plotly.v1+json": {
       "config": {
        "plotlyServerURL": "https://plot.ly"
       },
       "data": [
        {
         "customdata": [
          [
           1
          ],
          [
           0
          ],
          [
           1
          ],
          [
           -1
          ],
          [
           1
          ],
          [
           5
          ],
          [
           -1
          ],
          [
           -1
          ],
          [
           0
          ],
          [
           1
          ],
          [
           -1
          ],
          [
           1
          ],
          [
           5
          ],
          [
           2
          ],
          [
           1
          ],
          [
           5
          ],
          [
           -1
          ],
          [
           0
          ],
          [
           -1
          ],
          [
           0
          ],
          [
           -1
          ],
          [
           2
          ],
          [
           -1
          ],
          [
           1
          ],
          [
           -1
          ],
          [
           0
          ],
          [
           3
          ],
          [
           1
          ],
          [
           1
          ],
          [
           2
          ],
          [
           -1
          ],
          [
           0
          ],
          [
           -1
          ],
          [
           1
          ],
          [
           0
          ],
          [
           0
          ],
          [
           -1
          ],
          [
           0
          ],
          [
           0
          ],
          [
           0
          ],
          [
           1
          ],
          [
           1
          ],
          [
           0
          ],
          [
           2
          ],
          [
           -1
          ],
          [
           1
          ],
          [
           0
          ],
          [
           -1
          ],
          [
           -1
          ],
          [
           2
          ],
          [
           -1
          ],
          [
           5
          ],
          [
           -1
          ],
          [
           0
          ],
          [
           -1
          ],
          [
           -1
          ],
          [
           -1
          ],
          [
           4
          ],
          [
           -1
          ],
          [
           -1
          ],
          [
           5
          ],
          [
           -1
          ],
          [
           0
          ],
          [
           0
          ],
          [
           5
          ],
          [
           1
          ],
          [
           2
          ],
          [
           1
          ],
          [
           -1
          ],
          [
           2
          ],
          [
           0
          ],
          [
           1
          ],
          [
           1
          ],
          [
           2
          ],
          [
           -1
          ],
          [
           0
          ],
          [
           1
          ],
          [
           1
          ],
          [
           1
          ],
          [
           1
          ],
          [
           0
          ],
          [
           1
          ],
          [
           0
          ],
          [
           3
          ],
          [
           1
          ],
          [
           -1
          ],
          [
           0
          ],
          [
           -1
          ],
          [
           -1
          ],
          [
           -1
          ],
          [
           1
          ],
          [
           -1
          ],
          [
           4
          ],
          [
           -1
          ],
          [
           1
          ],
          [
           -1
          ],
          [
           0
          ],
          [
           2
          ],
          [
           0
          ],
          [
           -1
          ],
          [
           5
          ],
          [
           4
          ],
          [
           1
          ],
          [
           -1
          ],
          [
           0
          ],
          [
           6
          ],
          [
           5
          ],
          [
           0
          ],
          [
           -1
          ],
          [
           1
          ],
          [
           2
          ],
          [
           0
          ],
          [
           4
          ],
          [
           3
          ],
          [
           -1
          ],
          [
           0
          ],
          [
           -1
          ],
          [
           4
          ],
          [
           5
          ],
          [
           -1
          ],
          [
           -1
          ],
          [
           -1
          ],
          [
           0
          ],
          [
           3
          ],
          [
           0
          ],
          [
           -1
          ],
          [
           -1
          ],
          [
           0
          ],
          [
           0
          ],
          [
           5
          ],
          [
           0
          ],
          [
           1
          ],
          [
           0
          ],
          [
           -1
          ],
          [
           5
          ],
          [
           0
          ],
          [
           0
          ],
          [
           1
          ],
          [
           -1
          ],
          [
           -1
          ],
          [
           4
          ],
          [
           -1
          ],
          [
           0
          ],
          [
           1
          ],
          [
           0
          ],
          [
           1
          ],
          [
           0
          ],
          [
           -1
          ],
          [
           5
          ],
          [
           4
          ],
          [
           1
          ],
          [
           -1
          ],
          [
           6
          ],
          [
           0
          ],
          [
           -1
          ],
          [
           4
          ],
          [
           0
          ],
          [
           -1
          ],
          [
           5
          ],
          [
           2
          ],
          [
           3
          ],
          [
           -1
          ],
          [
           1
          ],
          [
           -1
          ],
          [
           1
          ],
          [
           5
          ],
          [
           1
          ],
          [
           -1
          ],
          [
           1
          ],
          [
           5
          ],
          [
           -1
          ],
          [
           -1
          ],
          [
           3
          ],
          [
           3
          ],
          [
           6
          ],
          [
           1
          ],
          [
           -1
          ],
          [
           -1
          ],
          [
           -1
          ],
          [
           6
          ],
          [
           -1
          ],
          [
           -1
          ],
          [
           4
          ],
          [
           -1
          ],
          [
           0
          ],
          [
           2
          ],
          [
           0
          ],
          [
           0
          ],
          [
           4
          ],
          [
           -1
          ],
          [
           5
          ],
          [
           1
          ],
          [
           3
          ],
          [
           1
          ],
          [
           -1
          ],
          [
           4
          ],
          [
           1
          ],
          [
           -1
          ],
          [
           1
          ],
          [
           1
          ],
          [
           1
          ],
          [
           0
          ],
          [
           0
          ],
          [
           -1
          ],
          [
           0
          ],
          [
           -1
          ],
          [
           0
          ],
          [
           5
          ],
          [
           1
          ],
          [
           -1
          ],
          [
           6
          ],
          [
           -1
          ],
          [
           0
          ],
          [
           -1
          ],
          [
           -1
          ],
          [
           -1
          ],
          [
           2
          ],
          [
           0
          ],
          [
           -1
          ],
          [
           1
          ],
          [
           0
          ],
          [
           -1
          ],
          [
           -1
          ],
          [
           1
          ],
          [
           -1
          ],
          [
           1
          ],
          [
           0
          ],
          [
           3
          ],
          [
           -1
          ],
          [
           2
          ],
          [
           -1
          ],
          [
           -1
          ],
          [
           0
          ],
          [
           2
          ],
          [
           2
          ],
          [
           1
          ],
          [
           -1
          ],
          [
           -1
          ],
          [
           -1
          ],
          [
           -1
          ],
          [
           0
          ],
          [
           0
          ],
          [
           0
          ],
          [
           1
          ],
          [
           -1
          ],
          [
           -1
          ],
          [
           1
          ],
          [
           3
          ],
          [
           5
          ],
          [
           1
          ],
          [
           3
          ],
          [
           4
          ],
          [
           -1
          ],
          [
           1
          ],
          [
           0
          ],
          [
           -1
          ],
          [
           0
          ],
          [
           1
          ],
          [
           -1
          ],
          [
           1
          ],
          [
           0
          ],
          [
           4
          ],
          [
           4
          ],
          [
           -1
          ],
          [
           3
          ],
          [
           -1
          ],
          [
           -1
          ],
          [
           -1
          ],
          [
           -1
          ],
          [
           5
          ],
          [
           -1
          ],
          [
           1
          ],
          [
           1
          ],
          [
           1
          ],
          [
           -1
          ],
          [
           0
          ],
          [
           1
          ],
          [
           0
          ],
          [
           2
          ],
          [
           1
          ],
          [
           -1
          ],
          [
           3
          ],
          [
           0
          ],
          [
           0
          ],
          [
           -1
          ],
          [
           5
          ],
          [
           0
          ],
          [
           1
          ],
          [
           -1
          ],
          [
           -1
          ],
          [
           -1
          ],
          [
           -1
          ],
          [
           0
          ],
          [
           -1
          ],
          [
           0
          ],
          [
           0
          ],
          [
           -1
          ],
          [
           0
          ],
          [
           6
          ],
          [
           0
          ],
          [
           3
          ],
          [
           -1
          ],
          [
           4
          ],
          [
           -1
          ],
          [
           -1
          ],
          [
           1
          ],
          [
           1
          ],
          [
           -1
          ],
          [
           0
          ],
          [
           0
          ],
          [
           0
          ],
          [
           1
          ],
          [
           3
          ],
          [
           -1
          ],
          [
           -1
          ],
          [
           0
          ],
          [
           0
          ],
          [
           -1
          ],
          [
           1
          ],
          [
           0
          ],
          [
           1
          ],
          [
           1
          ],
          [
           1
          ],
          [
           0
          ],
          [
           1
          ],
          [
           0
          ],
          [
           1
          ],
          [
           -1
          ],
          [
           5
          ],
          [
           0
          ],
          [
           6
          ],
          [
           2
          ],
          [
           -1
          ],
          [
           -1
          ],
          [
           0
          ],
          [
           0
          ],
          [
           -1
          ],
          [
           -1
          ],
          [
           0
          ],
          [
           1
          ],
          [
           -1
          ],
          [
           0
          ],
          [
           -1
          ],
          [
           1
          ],
          [
           -1
          ],
          [
           -1
          ],
          [
           0
          ],
          [
           -1
          ],
          [
           4
          ],
          [
           1
          ],
          [
           0
          ],
          [
           4
          ],
          [
           0
          ],
          [
           -1
          ],
          [
           -1
          ],
          [
           2
          ],
          [
           -1
          ],
          [
           0
          ],
          [
           0
          ],
          [
           -1
          ],
          [
           0
          ],
          [
           2
          ],
          [
           -1
          ],
          [
           -1
          ],
          [
           0
          ],
          [
           -1
          ],
          [
           -1
          ],
          [
           -1
          ],
          [
           0
          ],
          [
           0
          ],
          [
           4
          ],
          [
           1
          ],
          [
           2
          ],
          [
           -1
          ],
          [
           -1
          ],
          [
           -1
          ],
          [
           -1
          ],
          [
           1
          ],
          [
           -1
          ],
          [
           -1
          ],
          [
           -1
          ],
          [
           1
          ],
          [
           1
          ],
          [
           -1
          ],
          [
           -1
          ],
          [
           4
          ],
          [
           -1
          ],
          [
           0
          ],
          [
           -1
          ],
          [
           4
          ],
          [
           -1
          ],
          [
           0
          ],
          [
           0
          ],
          [
           0
          ],
          [
           5
          ],
          [
           2
          ],
          [
           1
          ],
          [
           -1
          ],
          [
           0
          ],
          [
           -1
          ],
          [
           3
          ],
          [
           3
          ],
          [
           4
          ],
          [
           0
          ],
          [
           1
          ],
          [
           3
          ],
          [
           -1
          ],
          [
           0
          ],
          [
           -1
          ],
          [
           -1
          ],
          [
           1
          ],
          [
           4
          ],
          [
           1
          ],
          [
           -1
          ],
          [
           1
          ],
          [
           6
          ],
          [
           1
          ],
          [
           0
          ],
          [
           1
          ],
          [
           -1
          ],
          [
           -1
          ],
          [
           2
          ],
          [
           0
          ],
          [
           0
          ],
          [
           1
          ],
          [
           5
          ],
          [
           1
          ],
          [
           4
          ],
          [
           0
          ],
          [
           1
          ],
          [
           -1
          ],
          [
           -1
          ],
          [
           -1
          ],
          [
           -1
          ],
          [
           0
          ],
          [
           0
          ],
          [
           1
          ],
          [
           2
          ],
          [
           1
          ],
          [
           -1
          ],
          [
           -1
          ],
          [
           2
          ],
          [
           2
          ],
          [
           0
          ],
          [
           5
          ],
          [
           1
          ],
          [
           -1
          ],
          [
           -1
          ],
          [
           0
          ],
          [
           1
          ],
          [
           3
          ],
          [
           1
          ],
          [
           1
          ],
          [
           1
          ],
          [
           5
          ],
          [
           -1
          ],
          [
           0
          ],
          [
           0
          ],
          [
           2
          ],
          [
           -1
          ],
          [
           2
          ],
          [
           -1
          ],
          [
           1
          ],
          [
           -1
          ],
          [
           -1
          ],
          [
           -1
          ],
          [
           1
          ],
          [
           -1
          ],
          [
           0
          ],
          [
           3
          ],
          [
           1
          ],
          [
           0
          ],
          [
           3
          ],
          [
           0
          ],
          [
           1
          ],
          [
           3
          ],
          [
           4
          ],
          [
           -1
          ],
          [
           -1
          ],
          [
           -1
          ],
          [
           2
          ],
          [
           -1
          ],
          [
           -1
          ],
          [
           0
          ],
          [
           0
          ],
          [
           -1
          ],
          [
           1
          ],
          [
           0
          ],
          [
           3
          ],
          [
           1
          ],
          [
           1
          ],
          [
           0
          ],
          [
           3
          ],
          [
           1
          ],
          [
           4
          ],
          [
           -1
          ],
          [
           4
          ],
          [
           -1
          ],
          [
           0
          ],
          [
           -1
          ],
          [
           3
          ],
          [
           0
          ],
          [
           1
          ],
          [
           0
          ],
          [
           3
          ],
          [
           -1
          ],
          [
           0
          ],
          [
           1
          ],
          [
           -1
          ],
          [
           0
          ],
          [
           -1
          ],
          [
           1
          ],
          [
           -1
          ],
          [
           1
          ],
          [
           4
          ],
          [
           -1
          ],
          [
           5
          ],
          [
           1
          ],
          [
           1
          ],
          [
           -1
          ],
          [
           0
          ],
          [
           -1
          ],
          [
           -1
          ],
          [
           2
          ],
          [
           -1
          ],
          [
           0
          ],
          [
           0
          ],
          [
           0
          ],
          [
           6
          ],
          [
           -1
          ],
          [
           1
          ],
          [
           0
          ],
          [
           1
          ],
          [
           0
          ],
          [
           0
          ],
          [
           1
          ],
          [
           -1
          ],
          [
           -1
          ],
          [
           -1
          ],
          [
           1
          ],
          [
           -1
          ],
          [
           0
          ],
          [
           6
          ],
          [
           1
          ],
          [
           4
          ],
          [
           -1
          ],
          [
           0
          ],
          [
           0
          ],
          [
           -1
          ],
          [
           1
          ],
          [
           -1
          ],
          [
           0
          ],
          [
           0
          ],
          [
           0
          ],
          [
           -1
          ],
          [
           0
          ],
          [
           3
          ],
          [
           1
          ],
          [
           0
          ],
          [
           -1
          ],
          [
           -1
          ],
          [
           -1
          ],
          [
           3
          ],
          [
           -1
          ],
          [
           1
          ],
          [
           0
          ],
          [
           0
          ],
          [
           0
          ],
          [
           2
          ],
          [
           4
          ],
          [
           -1
          ],
          [
           0
          ],
          [
           0
          ],
          [
           1
          ],
          [
           -1
          ],
          [
           0
          ],
          [
           -1
          ],
          [
           1
          ],
          [
           3
          ],
          [
           0
          ],
          [
           -1
          ],
          [
           -1
          ],
          [
           0
          ],
          [
           -1
          ],
          [
           -1
          ],
          [
           -1
          ],
          [
           0
          ],
          [
           4
          ],
          [
           5
          ],
          [
           -1
          ],
          [
           0
          ],
          [
           -1
          ],
          [
           -1
          ],
          [
           -1
          ],
          [
           -1
          ],
          [
           2
          ],
          [
           0
          ],
          [
           -1
          ],
          [
           -1
          ],
          [
           1
          ],
          [
           1
          ],
          [
           -1
          ],
          [
           -1
          ],
          [
           3
          ],
          [
           -1
          ],
          [
           0
          ],
          [
           -1
          ],
          [
           2
          ],
          [
           3
          ],
          [
           1
          ],
          [
           4
          ],
          [
           1
          ],
          [
           0
          ],
          [
           0
          ],
          [
           0
          ],
          [
           -1
          ],
          [
           1
          ],
          [
           -1
          ],
          [
           1
          ],
          [
           3
          ],
          [
           3
          ],
          [
           5
          ],
          [
           0
          ],
          [
           0
          ],
          [
           1
          ],
          [
           0
          ],
          [
           0
          ],
          [
           1
          ],
          [
           4
          ],
          [
           -1
          ],
          [
           -1
          ],
          [
           4
          ],
          [
           -1
          ],
          [
           1
          ],
          [
           -1
          ],
          [
           -1
          ],
          [
           5
          ],
          [
           1
          ],
          [
           -1
          ],
          [
           2
          ],
          [
           0
          ],
          [
           -1
          ],
          [
           -1
          ],
          [
           -1
          ],
          [
           1
          ],
          [
           -1
          ],
          [
           2
          ],
          [
           1
          ],
          [
           -1
          ],
          [
           0
          ],
          [
           -1
          ],
          [
           5
          ],
          [
           -1
          ],
          [
           -1
          ],
          [
           -1
          ]
         ],
         "hovertemplate": "x=%{x}<br>y=%{y}<br>topic=%{marker.color}<extra></extra>",
         "legendgroup": "",
         "marker": {
          "color": [
           1,
           0,
           1,
           -1,
           1,
           5,
           -1,
           -1,
           0,
           1,
           -1,
           1,
           5,
           2,
           1,
           5,
           -1,
           0,
           -1,
           0,
           -1,
           2,
           -1,
           1,
           -1,
           0,
           3,
           1,
           1,
           2,
           -1,
           0,
           -1,
           1,
           0,
           0,
           -1,
           0,
           0,
           0,
           1,
           1,
           0,
           2,
           -1,
           1,
           0,
           -1,
           -1,
           2,
           -1,
           5,
           -1,
           0,
           -1,
           -1,
           -1,
           4,
           -1,
           -1,
           5,
           -1,
           0,
           0,
           5,
           1,
           2,
           1,
           -1,
           2,
           0,
           1,
           1,
           2,
           -1,
           0,
           1,
           1,
           1,
           1,
           0,
           1,
           0,
           3,
           1,
           -1,
           0,
           -1,
           -1,
           -1,
           1,
           -1,
           4,
           -1,
           1,
           -1,
           0,
           2,
           0,
           -1,
           5,
           4,
           1,
           -1,
           0,
           6,
           5,
           0,
           -1,
           1,
           2,
           0,
           4,
           3,
           -1,
           0,
           -1,
           4,
           5,
           -1,
           -1,
           -1,
           0,
           3,
           0,
           -1,
           -1,
           0,
           0,
           5,
           0,
           1,
           0,
           -1,
           5,
           0,
           0,
           1,
           -1,
           -1,
           4,
           -1,
           0,
           1,
           0,
           1,
           0,
           -1,
           5,
           4,
           1,
           -1,
           6,
           0,
           -1,
           4,
           0,
           -1,
           5,
           2,
           3,
           -1,
           1,
           -1,
           1,
           5,
           1,
           -1,
           1,
           5,
           -1,
           -1,
           3,
           3,
           6,
           1,
           -1,
           -1,
           -1,
           6,
           -1,
           -1,
           4,
           -1,
           0,
           2,
           0,
           0,
           4,
           -1,
           5,
           1,
           3,
           1,
           -1,
           4,
           1,
           -1,
           1,
           1,
           1,
           0,
           0,
           -1,
           0,
           -1,
           0,
           5,
           1,
           -1,
           6,
           -1,
           0,
           -1,
           -1,
           -1,
           2,
           0,
           -1,
           1,
           0,
           -1,
           -1,
           1,
           -1,
           1,
           0,
           3,
           -1,
           2,
           -1,
           -1,
           0,
           2,
           2,
           1,
           -1,
           -1,
           -1,
           -1,
           0,
           0,
           0,
           1,
           -1,
           -1,
           1,
           3,
           5,
           1,
           3,
           4,
           -1,
           1,
           0,
           -1,
           0,
           1,
           -1,
           1,
           0,
           4,
           4,
           -1,
           3,
           -1,
           -1,
           -1,
           -1,
           5,
           -1,
           1,
           1,
           1,
           -1,
           0,
           1,
           0,
           2,
           1,
           -1,
           3,
           0,
           0,
           -1,
           5,
           0,
           1,
           -1,
           -1,
           -1,
           -1,
           0,
           -1,
           0,
           0,
           -1,
           0,
           6,
           0,
           3,
           -1,
           4,
           -1,
           -1,
           1,
           1,
           -1,
           0,
           0,
           0,
           1,
           3,
           -1,
           -1,
           0,
           0,
           -1,
           1,
           0,
           1,
           1,
           1,
           0,
           1,
           0,
           1,
           -1,
           5,
           0,
           6,
           2,
           -1,
           -1,
           0,
           0,
           -1,
           -1,
           0,
           1,
           -1,
           0,
           -1,
           1,
           -1,
           -1,
           0,
           -1,
           4,
           1,
           0,
           4,
           0,
           -1,
           -1,
           2,
           -1,
           0,
           0,
           -1,
           0,
           2,
           -1,
           -1,
           0,
           -1,
           -1,
           -1,
           0,
           0,
           4,
           1,
           2,
           -1,
           -1,
           -1,
           -1,
           1,
           -1,
           -1,
           -1,
           1,
           1,
           -1,
           -1,
           4,
           -1,
           0,
           -1,
           4,
           -1,
           0,
           0,
           0,
           5,
           2,
           1,
           -1,
           0,
           -1,
           3,
           3,
           4,
           0,
           1,
           3,
           -1,
           0,
           -1,
           -1,
           1,
           4,
           1,
           -1,
           1,
           6,
           1,
           0,
           1,
           -1,
           -1,
           2,
           0,
           0,
           1,
           5,
           1,
           4,
           0,
           1,
           -1,
           -1,
           -1,
           -1,
           0,
           0,
           1,
           2,
           1,
           -1,
           -1,
           2,
           2,
           0,
           5,
           1,
           -1,
           -1,
           0,
           1,
           3,
           1,
           1,
           1,
           5,
           -1,
           0,
           0,
           2,
           -1,
           2,
           -1,
           1,
           -1,
           -1,
           -1,
           1,
           -1,
           0,
           3,
           1,
           0,
           3,
           0,
           1,
           3,
           4,
           -1,
           -1,
           -1,
           2,
           -1,
           -1,
           0,
           0,
           -1,
           1,
           0,
           3,
           1,
           1,
           0,
           3,
           1,
           4,
           -1,
           4,
           -1,
           0,
           -1,
           3,
           0,
           1,
           0,
           3,
           -1,
           0,
           1,
           -1,
           0,
           -1,
           1,
           -1,
           1,
           4,
           -1,
           5,
           1,
           1,
           -1,
           0,
           -1,
           -1,
           2,
           -1,
           0,
           0,
           0,
           6,
           -1,
           1,
           0,
           1,
           0,
           0,
           1,
           -1,
           -1,
           -1,
           1,
           -1,
           0,
           6,
           1,
           4,
           -1,
           0,
           0,
           -1,
           1,
           -1,
           0,
           0,
           0,
           -1,
           0,
           3,
           1,
           0,
           -1,
           -1,
           -1,
           3,
           -1,
           1,
           0,
           0,
           0,
           2,
           4,
           -1,
           0,
           0,
           1,
           -1,
           0,
           -1,
           1,
           3,
           0,
           -1,
           -1,
           0,
           -1,
           -1,
           -1,
           0,
           4,
           5,
           -1,
           0,
           -1,
           -1,
           -1,
           -1,
           2,
           0,
           -1,
           -1,
           1,
           1,
           -1,
           -1,
           3,
           -1,
           0,
           -1,
           2,
           3,
           1,
           4,
           1,
           0,
           0,
           0,
           -1,
           1,
           -1,
           1,
           3,
           3,
           5,
           0,
           0,
           1,
           0,
           0,
           1,
           4,
           -1,
           -1,
           4,
           -1,
           1,
           -1,
           -1,
           5,
           1,
           -1,
           2,
           0,
           -1,
           -1,
           -1,
           1,
           -1,
           2,
           1,
           -1,
           0,
           -1,
           5,
           -1,
           -1,
           -1
          ],
          "coloraxis": "coloraxis",
          "symbol": "circle"
         },
         "mode": "markers",
         "name": "",
         "orientation": "v",
         "showlegend": false,
         "type": "scatter",
         "x": [
          2.763228,
          7.775435,
          3.01935,
          4.5001407,
          2.4996793,
          4.005353,
          3.5034816,
          3.8422332,
          7.6300044,
          3.1309254,
          7.036869,
          4.683081,
          3.8626378,
          7.025594,
          2.771237,
          4.0884466,
          5.468488,
          7.5881195,
          3.8417819,
          7.0216956,
          4.4859223,
          7.0414095,
          3.4892068,
          2.3939626,
          4.1595006,
          7.5916944,
          4.438496,
          4.0676656,
          2.7646735,
          7.4692917,
          3.3851433,
          8.581515,
          6.2610817,
          2.668576,
          6.8656554,
          7.221743,
          3.5145788,
          7.739869,
          7.364455,
          7.635897,
          2.4528012,
          3.2267058,
          6.7311816,
          6.710245,
          4.57866,
          2.9318721,
          7.6618137,
          5.721203,
          4.5026574,
          7.0368075,
          5.0019207,
          3.786147,
          8.582583,
          7.880539,
          4.655214,
          3.714468,
          4.3997693,
          5.4430213,
          4.9437723,
          6.4451523,
          3.8901072,
          5.9341135,
          6.9837327,
          6.400176,
          4.082823,
          2.8557346,
          6.9205275,
          3.0908139,
          4.888951,
          7.1092267,
          7.6503186,
          2.5183382,
          2.4873128,
          6.468438,
          4.1973166,
          7.4787407,
          2.569193,
          2.529894,
          2.3983185,
          2.4083683,
          7.325076,
          2.9321554,
          7.7916408,
          5.0230026,
          5.003304,
          6.579607,
          7.892045,
          4.970539,
          4.351944,
          4.6407657,
          2.6059415,
          6.887684,
          5.345266,
          5.1189117,
          2.5793512,
          5.858734,
          7.7780604,
          7.4793515,
          7.9395175,
          6.9529085,
          3.8932598,
          5.269721,
          4.8897495,
          3.8933163,
          7.502119,
          5.4836383,
          3.6367626,
          6.535155,
          6.18914,
          4.0291514,
          7.0575686,
          6.913599,
          5.502947,
          4.842632,
          7.8404884,
          8.399002,
          4.8144636,
          5.5035377,
          4.3361015,
          6.2349095,
          5.8891463,
          2.215006,
          7.1890483,
          4.3884673,
          7.3908925,
          3.503145,
          3.2731214,
          8.434025,
          7.9514647,
          4.0781426,
          7.3624983,
          4.103041,
          7.484738,
          4.341202,
          4.678095,
          7.257538,
          7.9266634,
          2.4572027,
          5.6078377,
          7.0526013,
          5.3573084,
          3.7777681,
          7.8563337,
          4.5519595,
          6.6203585,
          3.7787797,
          8.112477,
          6.1870914,
          3.652477,
          5.637416,
          4.1560836,
          4.559047,
          5.903406,
          8.454213,
          6.161803,
          5.4364676,
          6.6125293,
          3.6087966,
          3.5631757,
          6.158548,
          4.604936,
          4.8730288,
          4.701733,
          6.3530154,
          2.8367467,
          3.733744,
          2.562473,
          5.381776,
          4.6893444,
          3.9037158,
          5.697134,
          7.44832,
          4.4660163,
          4.773519,
          5.3541336,
          2.8999188,
          4.661045,
          4.974125,
          4.3503475,
          5.664718,
          3.6027274,
          4.2054105,
          5.7228827,
          5.8511457,
          8.217461,
          7.5816083,
          7.850776,
          7.881386,
          5.1324973,
          5.5747395,
          3.7313547,
          4.479375,
          3.998355,
          2.7187467,
          4.5987587,
          5.4607663,
          2.7829485,
          3.845825,
          2.2754738,
          2.9072182,
          3.5556076,
          7.3856583,
          7.6579223,
          5.0766883,
          6.806789,
          4.5658154,
          7.6385117,
          3.7169437,
          3.1979501,
          4.674905,
          5.4492044,
          3.3093762,
          7.922776,
          6.7453866,
          5.446731,
          4.50025,
          6.3330827,
          6.791096,
          7.1827664,
          3.2449927,
          7.649345,
          6.5115004,
          3.7744634,
          3.9999459,
          3.1778126,
          4.635088,
          7.5027275,
          4.509021,
          5.973867,
          6.4544015,
          5.899313,
          4.54345,
          7.860254,
          7.3214073,
          7.5542274,
          3.569396,
          5.6125693,
          5.039976,
          5.055397,
          6.2314754,
          8.075908,
          6.6645746,
          6.399958,
          2.5152757,
          4.3870645,
          5.7813416,
          4.1445956,
          4.9733453,
          3.5110495,
          3.2047496,
          4.4321833,
          5.411791,
          5.4889235,
          2.9890337,
          8.294759,
          3.2957811,
          6.40902,
          3.5596945,
          4.733724,
          3.2709298,
          6.4097533,
          5.8466663,
          5.2341437,
          5.895424,
          4.8347893,
          3.960727,
          3.7103271,
          3.9790542,
          5.24946,
          3.497671,
          5.837434,
          2.8340962,
          2.544389,
          2.2953126,
          4.676072,
          7.519448,
          3.2555914,
          6.813297,
          7.4787145,
          4.703876,
          4.6198835,
          4.2797403,
          7.556471,
          6.1873035,
          4.721398,
          3.6479752,
          6.648907,
          2.326104,
          3.7885094,
          5.8382134,
          3.953237,
          6.9544907,
          7.581562,
          4.0124173,
          8.517965,
          8.378675,
          4.9343953,
          7.646599,
          5.713901,
          7.3841443,
          4.0498223,
          5.8376102,
          5.269077,
          6.9718513,
          5.1026707,
          4.540273,
          2.5535583,
          5.1733303,
          8.485929,
          7.0916576,
          6.7148485,
          3.2399952,
          4.8843465,
          7.753907,
          6.0125012,
          7.861571,
          7.0052285,
          4.5598493,
          3.6409483,
          8.24799,
          2.5352266,
          4.150215,
          2.5365877,
          6.9894986,
          2.8610563,
          7.3759427,
          3.998908,
          3.5559096,
          3.5217187,
          7.742632,
          5.442855,
          6.690334,
          4.833677,
          5.3933353,
          8.34215,
          7.331541,
          5.426153,
          5.8941836,
          8.133464,
          2.5654979,
          3.8494592,
          7.2082477,
          3.6433609,
          3.6605237,
          8.596906,
          5.048416,
          6.5421095,
          3.321922,
          5.605833,
          4.3775063,
          6.37357,
          5.315567,
          7.5425286,
          5.978453,
          3.3460236,
          7.2755265,
          4.70779,
          7.684962,
          8.365219,
          7.063823,
          7.90127,
          7.1629887,
          5.8265204,
          4.98355,
          7.0142093,
          5.1800823,
          5.108463,
          3.3508492,
          8.593619,
          8.027825,
          5.117254,
          3.6198556,
          6.5479608,
          6.3285136,
          6.28342,
          4.6448064,
          6.2343087,
          4.4087214,
          5.2679563,
          6.208497,
          4.793298,
          2.607925,
          4.208997,
          5.8093276,
          5.159601,
          5.4363766,
          6.174866,
          7.6049438,
          5.713207,
          5.6439915,
          5.0519404,
          8.632352,
          7.437698,
          7.8165197,
          3.4785385,
          7.09632,
          4.746928,
          4.984441,
          8.051559,
          6.4017015,
          4.910102,
          4.3249135,
          4.726479,
          7.3286247,
          3.8967464,
          4.0152245,
          3.1664853,
          7.520684,
          5.720391,
          3.4118016,
          3.4413564,
          4.821494,
          3.1902823,
          5.393468,
          3.2878191,
          5.890877,
          2.8062692,
          6.850117,
          3.439648,
          4.526636,
          3.6469789,
          7.087312,
          7.1014977,
          7.356833,
          2.4501662,
          3.6766539,
          2.7775133,
          6.024272,
          6.9440403,
          2.861183,
          4.904502,
          5.4081287,
          4.239719,
          5.832513,
          6.8550363,
          7.779228,
          3.2842507,
          7.4752083,
          2.8810399,
          4.5623107,
          4.952676,
          7.0432663,
          6.491622,
          6.7825117,
          3.789353,
          3.4268076,
          4.9736066,
          4.826461,
          6.856501,
          4.2066526,
          4.9053283,
          2.9682214,
          3.6266375,
          3.38461,
          3.8630235,
          6.2574964,
          7.6796675,
          7.6751757,
          6.339245,
          5.6378584,
          7.098249,
          5.3931675,
          4.760315,
          3.622327,
          3.607941,
          4.469134,
          3.958504,
          5.0405817,
          7.039899,
          4.227598,
          2.726872,
          7.4191575,
          4.6636825,
          7.843889,
          4.201107,
          4.8152437,
          5.799516,
          4.2981887,
          3.6309667,
          4.5359592,
          7.5966787,
          6.3091884,
          5.2611494,
          7.0435753,
          7.6027737,
          4.971817,
          4.557843,
          7.970917,
          4.8196106,
          3.077249,
          4.578538,
          7.662866,
          4.7170196,
          2.812096,
          5.2613406,
          5.479818,
          5.269195,
          3.0776713,
          7.757116,
          4.102198,
          5.0489545,
          7.2596974,
          3.0760276,
          7.333429,
          4.2240705,
          4.9195724,
          7.4032035,
          3.2557921,
          4.982487,
          7.8022285,
          5.318939,
          4.1348414,
          5.884641,
          2.4670768,
          5.477936,
          3.2278225,
          4.2644753,
          4.3975034,
          2.4722517,
          4.778235,
          8.565929,
          4.5322766,
          6.342384,
          6.71915,
          3.6547406,
          6.6997414,
          8.386618,
          6.91131,
          5.302835,
          3.4991047,
          2.9012349,
          8.238177,
          2.9946947,
          6.4208126,
          7.0509224,
          3.164843,
          3.8985362,
          3.7290986,
          4.4809113,
          2.6093025,
          5.3128843,
          7.929814,
          5.526844,
          4.278873,
          5.598369,
          5.4670663,
          7.7816854,
          6.7663484,
          4.1285257,
          2.9592881,
          4.2023335,
          7.588684,
          6.700958,
          7.920402,
          4.7973714,
          7.5287747,
          4.743732,
          2.23065,
          8.24832,
          3.7703853,
          4.2722483,
          5.3754697,
          3.9525955,
          6.166234,
          4.956752,
          7.217204,
          8.267628,
          7.5288315,
          6.3253593,
          5.764691,
          4.2779636,
          8.184834,
          8.283531,
          2.8209908,
          6.0767074,
          7.9053845,
          6.413325,
          2.6531718,
          4.375945,
          7.263511,
          7.4444475,
          8.657342,
          8.18369,
          4.6693583,
          3.3091693,
          3.9932687,
          7.187088,
          5.1859775,
          3.3553507,
          4.2982464,
          7.71135,
          4.7362256,
          4.9185634,
          7.167179,
          3.9188573,
          7.1422863,
          8.28404,
          3.1569288,
          6.472335,
          2.4091768,
          4.3367534,
          5.502466,
          3.1842685,
          5.0270658,
          4.8092995,
          7.366534,
          3.4836545,
          6.7567086,
          5.1697726,
          3.6984675,
          5.2136645,
          3.9587193,
          6.411275,
          7.1309333,
          7.5768805,
          7.0370793,
          2.4690173,
          6.7450137,
          3.3051298,
          4.993917,
          5.2894187,
          3.8664732,
          7.3166366,
          7.1896796,
          2.9671283,
          7.1429114,
          6.935145,
          5.329308,
          5.626792,
          5.035056,
          5.81214,
          5.641863,
          3.4156075,
          2.6067183,
          5.5555716,
          6.9972115,
          3.6639483,
          2.693896,
          5.0100102,
          6.837123,
          8.600915,
          6.150066,
          8.135546,
          4.454071,
          2.8949301,
          6.285025,
          7.1069713,
          2.486884,
          4.435019,
          8.372725,
          4.1897316,
          3.498717,
          3.7122486,
          3.2192833,
          4.4831243
         ],
         "xaxis": "x",
         "y": [
          7.727024,
          7.154992,
          7.430665,
          5.7793207,
          7.6390343,
          5.3086066,
          6.9234877,
          7.930968,
          7.654069,
          8.368206,
          6.391916,
          8.7117,
          5.175468,
          5.5693583,
          7.4661074,
          4.9894376,
          4.170858,
          8.008014,
          6.6482534,
          8.73311,
          5.1844244,
          4.979143,
          4.396426,
          8.547101,
          5.2590246,
          6.5566983,
          3.9345388,
          8.207077,
          6.9774513,
          5.126615,
          7.370182,
          7.580308,
          7.3153024,
          6.9729695,
          7.1038437,
          8.634561,
          6.5745635,
          8.600668,
          7.2304,
          6.3901315,
          8.146166,
          7.7461333,
          6.9477754,
          5.284876,
          4.7546387,
          8.792909,
          8.621318,
          7.5033607,
          5.379562,
          4.892939,
          6.9267926,
          5.323209,
          7.545737,
          6.9960475,
          5.54087,
          6.576354,
          7.622193,
          4.5711327,
          6.3968534,
          8.617695,
          4.950372,
          7.4428043,
          7.6534624,
          7.556709,
          5.595831,
          8.499827,
          6.1215553,
          8.532478,
          4.4417634,
          5.304995,
          7.488303,
          8.483078,
          7.0830436,
          5.681496,
          5.7047095,
          7.9759784,
          7.944535,
          8.50854,
          8.388176,
          7.741216,
          7.3715034,
          7.790639,
          8.6359005,
          4.0095267,
          8.12227,
          5.8949084,
          6.5442176,
          8.314547,
          6.395547,
          6.2901325,
          7.8321896,
          7.2729235,
          4.482311,
          7.071647,
          6.692697,
          7.3826165,
          7.329076,
          5.159105,
          6.7999372,
          6.4102497,
          5.122953,
          4.940179,
          8.2310705,
          4.525532,
          6.8421717,
          7.0543394,
          5.2146797,
          7.031997,
          6.5323405,
          8.34372,
          5.091137,
          8.56685,
          5.7266617,
          3.4461596,
          8.638349,
          7.5587554,
          5.6883783,
          5.4415426,
          5.1561794,
          8.089216,
          5.868752,
          7.8706555,
          7.274935,
          4.3640385,
          8.189335,
          5.8147063,
          7.0457163,
          6.8737397,
          7.2121162,
          5.557695,
          7.4145637,
          8.696518,
          7.6814237,
          7.1774764,
          5.38473,
          7.8263607,
          8.250081,
          7.593582,
          6.8040433,
          5.6736116,
          5.282726,
          6.8483005,
          7.112301,
          8.692437,
          6.807883,
          8.359163,
          6.5981317,
          8.136331,
          5.1744537,
          5.4092536,
          8.147834,
          5.4029765,
          6.979056,
          6.8968015,
          6.028242,
          5.3692055,
          7.853416,
          6.464009,
          5.210235,
          5.547014,
          3.8139803,
          5.3942227,
          8.59599,
          5.4887276,
          8.249062,
          5.449323,
          6.952443,
          7.7244854,
          8.148394,
          4.971489,
          6.7430105,
          5.8943954,
          4.309932,
          3.7722073,
          7.420319,
          7.838293,
          6.916578,
          5.306656,
          6.011642,
          7.287239,
          6.8988895,
          6.0749955,
          4.5228615,
          5.7835016,
          6.978784,
          5.2327166,
          6.414551,
          7.433419,
          4.8691497,
          5.9131103,
          5.228957,
          7.8269186,
          4.4303403,
          7.3822393,
          4.4983916,
          5.6031384,
          8.645967,
          6.0465827,
          7.92146,
          8.225027,
          8.0999365,
          8.114668,
          6.504829,
          6.7438555,
          8.630454,
          6.904301,
          6.3578734,
          4.9686837,
          8.762495,
          4.823183,
          7.4584174,
          5.79412,
          7.8509316,
          7.1846747,
          8.37006,
          4.815981,
          5.342507,
          7.146623,
          8.287439,
          8.198089,
          7.114556,
          7.9838347,
          6.020821,
          8.239894,
          5.623061,
          8.5795765,
          6.7815566,
          3.9447074,
          8.46689,
          5.288775,
          7.962824,
          6.765167,
          7.9760923,
          5.0139904,
          5.1922297,
          8.292203,
          5.9701934,
          6.169088,
          5.735356,
          8.810268,
          6.8213687,
          7.962819,
          8.683506,
          8.43388,
          6.411074,
          8.055684,
          8.462517,
          3.6857395,
          4.9659643,
          7.6741076,
          4.195069,
          5.4574223,
          7.019725,
          8.637429,
          6.5663114,
          7.3919225,
          7.490187,
          7.889115,
          5.058988,
          8.037739,
          6.8982053,
          4.4678926,
          4.9638147,
          8.606349,
          3.4516447,
          5.798313,
          7.3764467,
          4.478818,
          7.860742,
          5.1074967,
          7.3999248,
          7.3752403,
          6.779666,
          7.587932,
          7.7405562,
          6.706165,
          7.951175,
          7.4279356,
          5.402403,
          8.628336,
          7.2078843,
          4.752181,
          8.100913,
          6.9417057,
          6.126863,
          4.9277616,
          6.832514,
          8.157007,
          5.9916325,
          7.5415244,
          6.9371624,
          6.667623,
          8.262049,
          8.075779,
          7.6632085,
          6.9475026,
          6.945364,
          7.7268605,
          7.3759303,
          6.5890565,
          4.354465,
          6.5209923,
          5.3578467,
          7.0381646,
          6.4170814,
          8.721337,
          6.7651854,
          3.8651674,
          6.956056,
          7.144552,
          8.46539,
          7.696283,
          3.4682314,
          6.697669,
          5.6720543,
          7.8601036,
          7.3839006,
          7.431046,
          8.337772,
          6.517712,
          7.86232,
          8.762718,
          6.7198057,
          7.8204026,
          7.808361,
          7.659413,
          7.8253264,
          5.8530526,
          5.293016,
          7.741296,
          7.753271,
          5.0897274,
          4.975443,
          6.965386,
          7.6771646,
          8.273341,
          6.31951,
          6.19741,
          7.3670692,
          8.646648,
          4.446324,
          8.278138,
          6.9965224,
          8.235005,
          7.558955,
          6.842758,
          6.9990277,
          4.517696,
          4.9926662,
          8.543923,
          6.9274044,
          5.300158,
          7.9883347,
          4.5850973,
          4.4863687,
          5.1926494,
          7.8733263,
          7.9841247,
          6.802672,
          6.5624514,
          6.7710953,
          4.8599567,
          6.668557,
          5.225141,
          7.2650623,
          5.487007,
          5.8161325,
          6.537815,
          7.144693,
          7.416978,
          6.203041,
          8.229429,
          5.3281903,
          7.1701317,
          6.0219817,
          7.121307,
          7.8013496,
          8.274513,
          7.959692,
          6.616724,
          4.3364334,
          8.364991,
          7.5796795,
          5.1280503,
          6.8776317,
          5.212656,
          7.1575036,
          7.9062448,
          8.034757,
          4.357962,
          6.293435,
          7.6163263,
          7.50276,
          6.6392603,
          4.9699707,
          4.927059,
          8.188158,
          6.395534,
          7.372497,
          5.1188045,
          3.4752793,
          3.9904146,
          6.5350885,
          7.0286455,
          7.686624,
          4.2670913,
          5.8121967,
          8.29956,
          6.1731086,
          7.18408,
          8.557674,
          6.394762,
          8.38838,
          6.5924172,
          7.7072167,
          6.8753967,
          8.784774,
          7.99376,
          8.344818,
          5.8307333,
          7.765626,
          5.0541353,
          7.6655846,
          7.5530934,
          8.024538,
          5.251995,
          8.449389,
          4.5029254,
          7.7334538,
          6.996638,
          7.195398,
          8.066396,
          7.359709,
          6.6909833,
          6.764885,
          6.3098464,
          8.648002,
          4.989639,
          8.557434,
          7.579602,
          5.4595294,
          4.9145207,
          5.4360228,
          8.671539,
          5.3530273,
          7.781868,
          8.350519,
          5.0956726,
          8.469693,
          8.662609,
          3.5506713,
          8.525372,
          7.9093103,
          8.076755,
          5.4945116,
          4.8460493,
          7.2103143,
          7.1470146,
          5.1953273,
          8.141772,
          4.9173274,
          6.699716,
          8.326455,
          7.1025305,
          6.4824095,
          5.5406203,
          8.265312,
          5.925225,
          6.8887897,
          4.240548,
          7.0259976,
          7.455782,
          3.7878976,
          8.743104,
          8.154573,
          3.6289074,
          4.341743,
          5.640703,
          6.9545255,
          7.446865,
          5.190165,
          5.7623606,
          7.258137,
          7.1785235,
          6.436328,
          5.8589535,
          7.864683,
          7.8078685,
          3.6698666,
          8.13602,
          8.433247,
          7.0087075,
          3.5255606,
          7.768897,
          4.4895544,
          6.2324123,
          4.5150185,
          5.573876,
          7.611971,
          6.359385,
          3.53973,
          7.9033,
          7.4973097,
          7.5069766,
          4.138866,
          6.6424065,
          7.1880183,
          8.309985,
          6.3429976,
          7.6780143,
          4.852063,
          7.8427515,
          5.316677,
          8.559974,
          5.0330915,
          7.4331036,
          4.976568,
          8.726042,
          7.8742456,
          4.481637,
          7.7154117,
          6.777553,
          7.9590597,
          5.2202077,
          5.8987403,
          7.7064457,
          7.3203616,
          8.472569,
          7.429799,
          7.115788,
          8.411428,
          6.6599216,
          7.4421535,
          8.5019455,
          8.716068,
          7.782547,
          6.1064982,
          6.273911,
          7.9182734,
          6.993511,
          7.5882154,
          7.2297726,
          7.404012,
          8.664719,
          6.0322227,
          5.7456083,
          7.3373547,
          7.810074,
          7.283341,
          7.8715625,
          4.6886063,
          6.6978536,
          6.943807,
          7.183937,
          6.248533,
          8.495092,
          3.6465013,
          8.092768,
          6.639412,
          6.6905212,
          5.69127,
          4.9064636,
          4.426286,
          7.1589775,
          8.151248,
          7.199848,
          7.2018094,
          8.005873,
          5.06815,
          5.6811547,
          7.1394243,
          7.0119896,
          7.5056386,
          6.8726983,
          4.7569995,
          6.8973036,
          7.757407,
          7.5888805,
          4.200488,
          8.584884,
          6.06519,
          7.6067514,
          7.835657,
          6.6910696,
          4.4987917,
          6.1821275,
          7.5898514,
          5.7183695,
          5.698508,
          6.52211,
          6.2554626,
          7.319732,
          8.154151,
          6.9622474,
          6.1001353,
          4.982305,
          6.711893,
          5.584874,
          7.50754,
          8.565024,
          8.622149,
          6.2726545,
          4.564091,
          3.681511,
          7.4451737,
          8.036156,
          7.9147344,
          4.911441,
          3.6198053,
          8.056798,
          4.8494005,
          8.533287,
          8.626182,
          8.694456,
          7.772204,
          5.806243,
          7.057838,
          6.976033,
          8.665274,
          3.7952504,
          3.6539764,
          5.198403,
          7.246078,
          8.203274,
          8.480755,
          8.495463,
          7.4554935,
          8.038155,
          4.479201,
          5.736594,
          7.3908224,
          4.322885,
          7.887075,
          7.99839,
          6.311865,
          5.58149,
          4.7721252,
          8.693739,
          8.212648,
          4.990806,
          6.930068,
          8.336582,
          7.43167,
          4.6489477,
          8.696784,
          6.9997554,
          4.913814,
          6.815103,
          6.9425173,
          7.049858,
          7.1590786,
          5.197086,
          6.1007123,
          4.4531765,
          6.773829
         ],
         "yaxis": "y"
        }
       ],
       "layout": {
        "coloraxis": {
         "colorbar": {
          "title": {
           "text": "topic"
          }
         },
         "colorscale": [
          [
           0,
           "#0d0887"
          ],
          [
           0.1111111111111111,
           "#46039f"
          ],
          [
           0.2222222222222222,
           "#7201a8"
          ],
          [
           0.3333333333333333,
           "#9c179e"
          ],
          [
           0.4444444444444444,
           "#bd3786"
          ],
          [
           0.5555555555555556,
           "#d8576b"
          ],
          [
           0.6666666666666666,
           "#ed7953"
          ],
          [
           0.7777777777777778,
           "#fb9f3a"
          ],
          [
           0.8888888888888888,
           "#fdca26"
          ],
          [
           1,
           "#f0f921"
          ]
         ]
        },
        "font": {
         "color": "RebeccaPurple",
         "family": "Courier New, monospace",
         "size": 12
        },
        "legend": {
         "title": {
          "text": "Topic"
         },
         "tracegroupgap": 0
        },
        "template": {
         "data": {
          "bar": [
           {
            "error_x": {
             "color": "#2a3f5f"
            },
            "error_y": {
             "color": "#2a3f5f"
            },
            "marker": {
             "line": {
              "color": "#E5ECF6",
              "width": 0.5
             },
             "pattern": {
              "fillmode": "overlay",
              "size": 10,
              "solidity": 0.2
             }
            },
            "type": "bar"
           }
          ],
          "barpolar": [
           {
            "marker": {
             "line": {
              "color": "#E5ECF6",
              "width": 0.5
             },
             "pattern": {
              "fillmode": "overlay",
              "size": 10,
              "solidity": 0.2
             }
            },
            "type": "barpolar"
           }
          ],
          "carpet": [
           {
            "aaxis": {
             "endlinecolor": "#2a3f5f",
             "gridcolor": "white",
             "linecolor": "white",
             "minorgridcolor": "white",
             "startlinecolor": "#2a3f5f"
            },
            "baxis": {
             "endlinecolor": "#2a3f5f",
             "gridcolor": "white",
             "linecolor": "white",
             "minorgridcolor": "white",
             "startlinecolor": "#2a3f5f"
            },
            "type": "carpet"
           }
          ],
          "choropleth": [
           {
            "colorbar": {
             "outlinewidth": 0,
             "ticks": ""
            },
            "type": "choropleth"
           }
          ],
          "contour": [
           {
            "colorbar": {
             "outlinewidth": 0,
             "ticks": ""
            },
            "colorscale": [
             [
              0,
              "#0d0887"
             ],
             [
              0.1111111111111111,
              "#46039f"
             ],
             [
              0.2222222222222222,
              "#7201a8"
             ],
             [
              0.3333333333333333,
              "#9c179e"
             ],
             [
              0.4444444444444444,
              "#bd3786"
             ],
             [
              0.5555555555555556,
              "#d8576b"
             ],
             [
              0.6666666666666666,
              "#ed7953"
             ],
             [
              0.7777777777777778,
              "#fb9f3a"
             ],
             [
              0.8888888888888888,
              "#fdca26"
             ],
             [
              1,
              "#f0f921"
             ]
            ],
            "type": "contour"
           }
          ],
          "contourcarpet": [
           {
            "colorbar": {
             "outlinewidth": 0,
             "ticks": ""
            },
            "type": "contourcarpet"
           }
          ],
          "heatmap": [
           {
            "colorbar": {
             "outlinewidth": 0,
             "ticks": ""
            },
            "colorscale": [
             [
              0,
              "#0d0887"
             ],
             [
              0.1111111111111111,
              "#46039f"
             ],
             [
              0.2222222222222222,
              "#7201a8"
             ],
             [
              0.3333333333333333,
              "#9c179e"
             ],
             [
              0.4444444444444444,
              "#bd3786"
             ],
             [
              0.5555555555555556,
              "#d8576b"
             ],
             [
              0.6666666666666666,
              "#ed7953"
             ],
             [
              0.7777777777777778,
              "#fb9f3a"
             ],
             [
              0.8888888888888888,
              "#fdca26"
             ],
             [
              1,
              "#f0f921"
             ]
            ],
            "type": "heatmap"
           }
          ],
          "heatmapgl": [
           {
            "colorbar": {
             "outlinewidth": 0,
             "ticks": ""
            },
            "colorscale": [
             [
              0,
              "#0d0887"
             ],
             [
              0.1111111111111111,
              "#46039f"
             ],
             [
              0.2222222222222222,
              "#7201a8"
             ],
             [
              0.3333333333333333,
              "#9c179e"
             ],
             [
              0.4444444444444444,
              "#bd3786"
             ],
             [
              0.5555555555555556,
              "#d8576b"
             ],
             [
              0.6666666666666666,
              "#ed7953"
             ],
             [
              0.7777777777777778,
              "#fb9f3a"
             ],
             [
              0.8888888888888888,
              "#fdca26"
             ],
             [
              1,
              "#f0f921"
             ]
            ],
            "type": "heatmapgl"
           }
          ],
          "histogram": [
           {
            "marker": {
             "pattern": {
              "fillmode": "overlay",
              "size": 10,
              "solidity": 0.2
             }
            },
            "type": "histogram"
           }
          ],
          "histogram2d": [
           {
            "colorbar": {
             "outlinewidth": 0,
             "ticks": ""
            },
            "colorscale": [
             [
              0,
              "#0d0887"
             ],
             [
              0.1111111111111111,
              "#46039f"
             ],
             [
              0.2222222222222222,
              "#7201a8"
             ],
             [
              0.3333333333333333,
              "#9c179e"
             ],
             [
              0.4444444444444444,
              "#bd3786"
             ],
             [
              0.5555555555555556,
              "#d8576b"
             ],
             [
              0.6666666666666666,
              "#ed7953"
             ],
             [
              0.7777777777777778,
              "#fb9f3a"
             ],
             [
              0.8888888888888888,
              "#fdca26"
             ],
             [
              1,
              "#f0f921"
             ]
            ],
            "type": "histogram2d"
           }
          ],
          "histogram2dcontour": [
           {
            "colorbar": {
             "outlinewidth": 0,
             "ticks": ""
            },
            "colorscale": [
             [
              0,
              "#0d0887"
             ],
             [
              0.1111111111111111,
              "#46039f"
             ],
             [
              0.2222222222222222,
              "#7201a8"
             ],
             [
              0.3333333333333333,
              "#9c179e"
             ],
             [
              0.4444444444444444,
              "#bd3786"
             ],
             [
              0.5555555555555556,
              "#d8576b"
             ],
             [
              0.6666666666666666,
              "#ed7953"
             ],
             [
              0.7777777777777778,
              "#fb9f3a"
             ],
             [
              0.8888888888888888,
              "#fdca26"
             ],
             [
              1,
              "#f0f921"
             ]
            ],
            "type": "histogram2dcontour"
           }
          ],
          "mesh3d": [
           {
            "colorbar": {
             "outlinewidth": 0,
             "ticks": ""
            },
            "type": "mesh3d"
           }
          ],
          "parcoords": [
           {
            "line": {
             "colorbar": {
              "outlinewidth": 0,
              "ticks": ""
             }
            },
            "type": "parcoords"
           }
          ],
          "pie": [
           {
            "automargin": true,
            "type": "pie"
           }
          ],
          "scatter": [
           {
            "fillpattern": {
             "fillmode": "overlay",
             "size": 10,
             "solidity": 0.2
            },
            "type": "scatter"
           }
          ],
          "scatter3d": [
           {
            "line": {
             "colorbar": {
              "outlinewidth": 0,
              "ticks": ""
             }
            },
            "marker": {
             "colorbar": {
              "outlinewidth": 0,
              "ticks": ""
             }
            },
            "type": "scatter3d"
           }
          ],
          "scattercarpet": [
           {
            "marker": {
             "colorbar": {
              "outlinewidth": 0,
              "ticks": ""
             }
            },
            "type": "scattercarpet"
           }
          ],
          "scattergeo": [
           {
            "marker": {
             "colorbar": {
              "outlinewidth": 0,
              "ticks": ""
             }
            },
            "type": "scattergeo"
           }
          ],
          "scattergl": [
           {
            "marker": {
             "colorbar": {
              "outlinewidth": 0,
              "ticks": ""
             }
            },
            "type": "scattergl"
           }
          ],
          "scattermapbox": [
           {
            "marker": {
             "colorbar": {
              "outlinewidth": 0,
              "ticks": ""
             }
            },
            "type": "scattermapbox"
           }
          ],
          "scatterpolar": [
           {
            "marker": {
             "colorbar": {
              "outlinewidth": 0,
              "ticks": ""
             }
            },
            "type": "scatterpolar"
           }
          ],
          "scatterpolargl": [
           {
            "marker": {
             "colorbar": {
              "outlinewidth": 0,
              "ticks": ""
             }
            },
            "type": "scatterpolargl"
           }
          ],
          "scatterternary": [
           {
            "marker": {
             "colorbar": {
              "outlinewidth": 0,
              "ticks": ""
             }
            },
            "type": "scatterternary"
           }
          ],
          "surface": [
           {
            "colorbar": {
             "outlinewidth": 0,
             "ticks": ""
            },
            "colorscale": [
             [
              0,
              "#0d0887"
             ],
             [
              0.1111111111111111,
              "#46039f"
             ],
             [
              0.2222222222222222,
              "#7201a8"
             ],
             [
              0.3333333333333333,
              "#9c179e"
             ],
             [
              0.4444444444444444,
              "#bd3786"
             ],
             [
              0.5555555555555556,
              "#d8576b"
             ],
             [
              0.6666666666666666,
              "#ed7953"
             ],
             [
              0.7777777777777778,
              "#fb9f3a"
             ],
             [
              0.8888888888888888,
              "#fdca26"
             ],
             [
              1,
              "#f0f921"
             ]
            ],
            "type": "surface"
           }
          ],
          "table": [
           {
            "cells": {
             "fill": {
              "color": "#EBF0F8"
             },
             "line": {
              "color": "white"
             }
            },
            "header": {
             "fill": {
              "color": "#C8D4E3"
             },
             "line": {
              "color": "white"
             }
            },
            "type": "table"
           }
          ]
         },
         "layout": {
          "annotationdefaults": {
           "arrowcolor": "#2a3f5f",
           "arrowhead": 0,
           "arrowwidth": 1
          },
          "autotypenumbers": "strict",
          "coloraxis": {
           "colorbar": {
            "outlinewidth": 0,
            "ticks": ""
           }
          },
          "colorscale": {
           "diverging": [
            [
             0,
             "#8e0152"
            ],
            [
             0.1,
             "#c51b7d"
            ],
            [
             0.2,
             "#de77ae"
            ],
            [
             0.3,
             "#f1b6da"
            ],
            [
             0.4,
             "#fde0ef"
            ],
            [
             0.5,
             "#f7f7f7"
            ],
            [
             0.6,
             "#e6f5d0"
            ],
            [
             0.7,
             "#b8e186"
            ],
            [
             0.8,
             "#7fbc41"
            ],
            [
             0.9,
             "#4d9221"
            ],
            [
             1,
             "#276419"
            ]
           ],
           "sequential": [
            [
             0,
             "#0d0887"
            ],
            [
             0.1111111111111111,
             "#46039f"
            ],
            [
             0.2222222222222222,
             "#7201a8"
            ],
            [
             0.3333333333333333,
             "#9c179e"
            ],
            [
             0.4444444444444444,
             "#bd3786"
            ],
            [
             0.5555555555555556,
             "#d8576b"
            ],
            [
             0.6666666666666666,
             "#ed7953"
            ],
            [
             0.7777777777777778,
             "#fb9f3a"
            ],
            [
             0.8888888888888888,
             "#fdca26"
            ],
            [
             1,
             "#f0f921"
            ]
           ],
           "sequentialminus": [
            [
             0,
             "#0d0887"
            ],
            [
             0.1111111111111111,
             "#46039f"
            ],
            [
             0.2222222222222222,
             "#7201a8"
            ],
            [
             0.3333333333333333,
             "#9c179e"
            ],
            [
             0.4444444444444444,
             "#bd3786"
            ],
            [
             0.5555555555555556,
             "#d8576b"
            ],
            [
             0.6666666666666666,
             "#ed7953"
            ],
            [
             0.7777777777777778,
             "#fb9f3a"
            ],
            [
             0.8888888888888888,
             "#fdca26"
            ],
            [
             1,
             "#f0f921"
            ]
           ]
          },
          "colorway": [
           "#636efa",
           "#EF553B",
           "#00cc96",
           "#ab63fa",
           "#FFA15A",
           "#19d3f3",
           "#FF6692",
           "#B6E880",
           "#FF97FF",
           "#FECB52"
          ],
          "font": {
           "color": "#2a3f5f"
          },
          "geo": {
           "bgcolor": "white",
           "lakecolor": "white",
           "landcolor": "#E5ECF6",
           "showlakes": true,
           "showland": true,
           "subunitcolor": "white"
          },
          "hoverlabel": {
           "align": "left"
          },
          "hovermode": "closest",
          "mapbox": {
           "style": "light"
          },
          "paper_bgcolor": "white",
          "plot_bgcolor": "#E5ECF6",
          "polar": {
           "angularaxis": {
            "gridcolor": "white",
            "linecolor": "white",
            "ticks": ""
           },
           "bgcolor": "#E5ECF6",
           "radialaxis": {
            "gridcolor": "white",
            "linecolor": "white",
            "ticks": ""
           }
          },
          "scene": {
           "xaxis": {
            "backgroundcolor": "#E5ECF6",
            "gridcolor": "white",
            "gridwidth": 2,
            "linecolor": "white",
            "showbackground": true,
            "ticks": "",
            "zerolinecolor": "white"
           },
           "yaxis": {
            "backgroundcolor": "#E5ECF6",
            "gridcolor": "white",
            "gridwidth": 2,
            "linecolor": "white",
            "showbackground": true,
            "ticks": "",
            "zerolinecolor": "white"
           },
           "zaxis": {
            "backgroundcolor": "#E5ECF6",
            "gridcolor": "white",
            "gridwidth": 2,
            "linecolor": "white",
            "showbackground": true,
            "ticks": "",
            "zerolinecolor": "white"
           }
          },
          "shapedefaults": {
           "line": {
            "color": "#2a3f5f"
           }
          },
          "ternary": {
           "aaxis": {
            "gridcolor": "white",
            "linecolor": "white",
            "ticks": ""
           },
           "baxis": {
            "gridcolor": "white",
            "linecolor": "white",
            "ticks": ""
           },
           "bgcolor": "#E5ECF6",
           "caxis": {
            "gridcolor": "white",
            "linecolor": "white",
            "ticks": ""
           }
          },
          "title": {
           "x": 0.05
          },
          "xaxis": {
           "automargin": true,
           "gridcolor": "white",
           "linecolor": "white",
           "ticks": "",
           "title": {
            "standoff": 15
           },
           "zerolinecolor": "white",
           "zerolinewidth": 2
          },
          "yaxis": {
           "automargin": true,
           "gridcolor": "white",
           "linecolor": "white",
           "ticks": "",
           "title": {
            "standoff": 15
           },
           "zerolinecolor": "white",
           "zerolinewidth": 2
          }
         }
        },
        "title": {
         "text": "t-SNE Visualization of Document Embeddings"
        },
        "xaxis": {
         "anchor": "y",
         "domain": [
          0,
          1
         ],
         "title": {
          "text": "Dimension 1"
         }
        },
        "yaxis": {
         "anchor": "x",
         "domain": [
          0,
          1
         ],
         "title": {
          "text": "Dimension 2"
         }
        }
       }
      }
     },
     "metadata": {},
     "output_type": "display_data"
    }
   ],
   "source": [
    "from umap import UMAP\n",
    "import matplotlib.pyplot as plt\n",
    "from bertopic import BERTopic\n",
    "import plotly.express as px\n",
    "import pandas as pd\n",
    "\n",
    "# Assuming you have already trained your BERTopic model (topic_model) \n",
    "# and have your cleaned_posts_texts\n",
    "\n",
    "# Get embeddings from the topic model\n",
    "embeddings = topic_model.embedding_model.embed(cleaned_posts_texts)\n",
    "\n",
    "# 1. Reduce dimensionality with UMAP (recommended)\n",
    "umap_model = UMAP(n_neighbors=15, n_components=2, metric='cosine', random_state=42)\n",
    "reduced_embeddings = umap_model.fit_transform(embeddings)\n",
    "\n",
    "# 2. Visualize reduced embeddings\n",
    "# For interactive plots use visualize_documents\n",
    "# topic_model.visualize_documents(docs=cleaned_posts_texts, embeddings=embeddings, reduced_embeddings=reduced_embeddings)\n",
    "\n",
    "# For static plots you can use matplotlib:\n",
    "topics = topic_model.topics_\n",
    "\n",
    "# Prepare the data for plotting\n",
    "df = pd.DataFrame({\"x\": reduced_embeddings[:, 0], \"y\": reduced_embeddings[:, 1], \"topic\": topics})\n",
    "\n",
    "# Create the plot\n",
    "fig = px.scatter(df, x=\"x\", y=\"y\", color=\"topic\", hover_data=[\"topic\"], title=\"t-SNE Visualization of Document Embeddings\")\n",
    "\n",
    "# Customize the layout\n",
    "fig.update_layout(\n",
    "    xaxis_title=\"Dimension 1\",\n",
    "    yaxis_title=\"Dimension 2\",\n",
    "    legend_title=\"Topic\",\n",
    "    font=dict(\n",
    "        family=\"Courier New, monospace\",\n",
    "        size=12,\n",
    "        color=\"RebeccaPurple\"\n",
    "    )\n",
    ")\n",
    "\n",
    "fig.show()"
   ]
  }
 ],
 "metadata": {
  "kernelspec": {
   "display_name": "Python 3",
   "language": "python",
   "name": "python3"
  },
  "language_info": {
   "codemirror_mode": {
    "name": "ipython",
    "version": 3
   },
   "file_extension": ".py",
   "mimetype": "text/x-python",
   "name": "python",
   "nbconvert_exporter": "python",
   "pygments_lexer": "ipython3",
   "version": "3.10.0"
  }
 },
 "nbformat": 4,
 "nbformat_minor": 2
}
